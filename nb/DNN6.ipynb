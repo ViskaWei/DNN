{
 "cells": [
  {
   "cell_type": "code",
   "execution_count": 1,
   "metadata": {},
   "outputs": [],
   "source": [
    "%load_ext autoreload\n",
    "%autoreload 2"
   ]
  },
  {
   "cell_type": "code",
   "execution_count": 2,
   "metadata": {},
   "outputs": [],
   "source": [
    "import os\n",
    "import sys\n",
    "import h5py\n",
    "import numpy as np\n",
    "import pandas as pd\n",
    "import matplotlib.pyplot as plt"
   ]
  },
  {
   "cell_type": "code",
   "execution_count": 3,
   "metadata": {},
   "outputs": [],
   "source": [
    "os.environ[\"CUDA_VISIBLE_DEVICES\"] = \"3\""
   ]
  },
  {
   "cell_type": "code",
   "execution_count": 4,
   "metadata": {},
   "outputs": [],
   "source": [
    "PROJECT_PATH = '../'\n",
    "sys.path.insert(0, PROJECT_PATH)"
   ]
  },
  {
   "cell_type": "code",
   "execution_count": 23,
   "metadata": {},
   "outputs": [],
   "source": [
    "Ws = {\"Blue\": [3800, 6500, 2300, \"Blue\"], \"RedL\": [6300, 9700, 3000, \"RedL\"], \"RedM\": [7100, 8850, 5000, \"RedM\"],\n",
    "                   \"NIR\": [9400, 12600, 4300, \"NIR\"]}\n",
    "Rs = {\"M\": [\"M31 Giant\", \"M31G\"], \"W\": [\"MW Warm\",\"MWW\"], \"C\": [\"MW Cool\",\"MWC\"],\n",
    "      \"B\": [\"BHB\",\"BHB\"], \"R\": [\"RHB\",\"RHB\"], \"G\":[\"DwarfG Giant\", \"DGG\"]}\n",
    "RRs = [\"M31G\", \"MWW\", \"MWC\",\"BHB\",\"RHB\",\"DGG\"]\n",
    "# Ps = {\"M\": [[-2.5, 0.0], [3500, 5000], [0.0, 2.0],[-0.75, 0.5], [-0.25, 0.5]], \n",
    "#       \"W\": [[-2.0, 0.0], [5500, 7500], [3.5, 5.0],[-0.75, 0.5], [-0.25, 0.5]],\n",
    "#       \"C\": [[-2.0, 0.0], [4500, 6000], [4.0, 5.0],[-0.75, 0.5], [-0.25, 0.5]], \n",
    "#       \"B\": [[-2.5,-1.5], [7000, 9500], [2.0, 3.0],[-0.75, 0.5], [-0.25, 0.5]],\n",
    "#       \"R\": [[-1.0, 0.0], [5000, 6500], [2.0, 3.0],[-0.75, 0.5], [-0.25, 0.5]], \n",
    "#       \"G\": [[-2.5,-1.0], [3500, 5500], [0.0, 3.5],[-0.75, 0.5], [-0.25, 0.5]]}"
   ]
  },
  {
   "cell_type": "markdown",
   "metadata": {},
   "source": [
    "### Load data"
   ]
  },
  {
   "cell_type": "code",
   "execution_count": 36,
   "metadata": {},
   "outputs": [],
   "source": [
    "def get_train(R, W, nSample=1000):\n",
    "    RBF_PATH = f\"/scratch/ceph/swei20/data/dnn/{R}/rbf_RedM_R5000_100k.h5\"\n",
    "    PCP_PATH = f\"/scratch/ceph/swei20/data/dnn/{R}/bosz_pcp.h5\"\n",
    "    with h5py.File(RBF_PATH, 'r') as f:\n",
    "        flux0 = f['normflux'][()]\n",
    "        pval0 = f['pval'][()]\n",
    "        wave0 = f['wave'][()]\n",
    "    with h5py.File(PCP_PATH, 'r') as f:\n",
    "        Xdx = f[f'Xdx{W}'][()]\n",
    "        pcp = f[f'pcp{W}'][()]\n",
    "    PC = pcp[Xdx]    \n",
    "    pcpFlux = flux0.dot(PC.T)    \n",
    "    x_train = pcpFlux[:nSample]\n",
    "    y_train = np.zeros(nSample) + RRs.index(R)\n",
    "    x_pval = pval0[:nSample]\n",
    "    print(x_train.shape)\n",
    "    return x_train, y_train, x_pval"
   ]
  },
  {
   "cell_type": "code",
   "execution_count": null,
   "metadata": {},
   "outputs": [],
   "source": [
    "RRRs = [\"M31G\", \"MWW\", \"MWC\", \"BHB\"]\n",
    "for R in RRRs:\n",
    "\n",
    "    PCP_PATH = f\"/scratch/ceph/swei20/data/dnn/{R}/bosz_pcp.h5\"\n",
    "\n",
    "    with h5py.File(PCP_PATH, 'r') as f:\n",
    "            Xdx = f[f'Xdx{W}'][()]\n",
    "            pcp = f[f'pcp{W}'][()]\n",
    "    PC = pcp[Xdx]    "
   ]
  },
  {
   "cell_type": "code",
   "execution_count": 38,
   "metadata": {},
   "outputs": [],
   "source": [
    "N=100"
   ]
  },
  {
   "cell_type": "code",
   "execution_count": 39,
   "metadata": {},
   "outputs": [
    {
     "ename": "SyntaxError",
     "evalue": "invalid syntax (2306590482.py, line 2)",
     "output_type": "error",
     "traceback": [
      "\u001b[0;36m  File \u001b[0;32m\"/tmp/ipykernel_831095/2306590482.py\"\u001b[0;36m, line \u001b[0;32m2\u001b[0m\n\u001b[0;31m    for R in [\"M31G\", \"\"]\u001b[0m\n\u001b[0m                         ^\u001b[0m\n\u001b[0;31mSyntaxError\u001b[0m\u001b[0;31m:\u001b[0m invalid syntax\n"
     ]
    }
   ],
   "source": [
    "W = \"R\"\n",
    "N=1000\n",
    "x_train = np.zeros()\n",
    "RRRs = [\"M31G\", \"MWW\", \"MWC\", \"BHB\"]\n",
    "for R in RRRs:\n",
    "    x_train0, y_train0, x_pval0 = get_train(R,W, nSample=N)    "
   ]
  },
  {
   "cell_type": "code",
   "execution_count": 37,
   "metadata": {},
   "outputs": [
    {
     "name": "stdout",
     "output_type": "stream",
     "text": [
      "(1000, 40)\n"
     ]
    }
   ],
   "source": [
    "R = \"M31G\"\n"
   ]
  },
  {
   "cell_type": "code",
   "execution_count": 32,
   "metadata": {},
   "outputs": [],
   "source": []
  },
  {
   "cell_type": "code",
   "execution_count": null,
   "metadata": {},
   "outputs": [],
   "source": []
  }
 ],
 "metadata": {
  "kernelspec": {
   "display_name": "Python 3 [viska-tf25]",
   "language": "python",
   "name": "python3-viska-tf25"
  },
  "language_info": {
   "codemirror_mode": {
    "name": "ipython",
    "version": 3
   },
   "file_extension": ".py",
   "mimetype": "text/x-python",
   "name": "python",
   "nbconvert_exporter": "python",
   "pygments_lexer": "ipython3",
   "version": "3.9.6"
  }
 },
 "nbformat": 4,
 "nbformat_minor": 4
}
