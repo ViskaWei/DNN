{
 "cells": [
  {
   "cell_type": "code",
   "execution_count": 1,
   "metadata": {},
   "outputs": [],
   "source": [
    "import cupy as cp"
   ]
  },
  {
   "cell_type": "code",
   "execution_count": 129,
   "metadata": {},
   "outputs": [],
   "source": [
    "x = cp.asarray([[1,0,1,0,0],[1,0,-1,0,0],[1,1,0,0,0],[-1,1,0,0,0],\n",
    "                [2,1,0,0,0],[2,0,1,0,0],[0,0,0,0,1],[0,0,0,2,0]])"
   ]
  },
  {
   "cell_type": "code",
   "execution_count": 130,
   "metadata": {},
   "outputs": [
    {
     "data": {
      "text/plain": [
       "array([[ 1,  0,  1,  0,  0],\n",
       "       [ 1,  0, -1,  0,  0],\n",
       "       [ 1,  1,  0,  0,  0],\n",
       "       [-1,  1,  0,  0,  0],\n",
       "       [ 2,  1,  0,  0,  0],\n",
       "       [ 2,  0,  1,  0,  0],\n",
       "       [ 0,  0,  0,  0,  1],\n",
       "       [ 0,  0,  0,  2,  0]])"
      ]
     },
     "execution_count": 130,
     "metadata": {},
     "output_type": "execute_result"
    }
   ],
   "source": [
    "x"
   ]
  },
  {
   "cell_type": "code",
   "execution_count": 131,
   "metadata": {},
   "outputs": [],
   "source": [
    "u, w, v = cp.linalg.svd(x, full_matrices=0)\n"
   ]
  },
  {
   "cell_type": "code",
   "execution_count": 132,
   "metadata": {},
   "outputs": [
    {
     "data": {
      "text/plain": [
       "array([[-3.23116763e-01, -2.77555756e-17,  4.08248290e-01,\n",
       "        -2.72336164e-01,  2.77555756e-17],\n",
       "       [-2.13725390e-01, -6.21750534e-18, -4.08248290e-01,\n",
       "         6.46998587e-01,  3.39730810e-17],\n",
       "       [-3.23116763e-01, -6.21750534e-18, -4.08248290e-01,\n",
       "        -2.72336164e-01, -7.49500390e-18],\n",
       "       [ 2.13725390e-01,  0.00000000e+00, -4.08248290e-01,\n",
       "        -6.46998587e-01, -2.40038131e-17],\n",
       "       [-5.91537839e-01, -1.24350107e-17, -4.08248290e-01,\n",
       "        -8.50049518e-02,  0.00000000e+00],\n",
       "       [-5.91537839e-01, -1.24350107e-17,  4.08248290e-01,\n",
       "        -8.50049518e-02,  1.65088092e-17],\n",
       "       [ 0.00000000e+00,  0.00000000e+00,  0.00000000e+00,\n",
       "         0.00000000e+00, -1.00000000e+00],\n",
       "       [ 0.00000000e+00, -1.00000000e+00,  0.00000000e+00,\n",
       "         0.00000000e+00,  0.00000000e+00]])"
      ]
     },
     "execution_count": 132,
     "metadata": {},
     "output_type": "execute_result"
    }
   ],
   "source": [
    "u"
   ]
  },
  {
   "cell_type": "code",
   "execution_count": 133,
   "metadata": {},
   "outputs": [
    {
     "data": {
      "text/plain": [
       "array([[-0.9608977 , -0.19580042, -0.19580042, -0.        , -0.        ],\n",
       "       [-0.        , -0.        , -0.        , -1.        , -0.        ],\n",
       "       [ 0.        , -0.70710678,  0.70710678,  0.        ,  0.        ],\n",
       "       [ 0.27690361, -0.67945728, -0.67945728,  0.        ,  0.        ],\n",
       "       [-0.        , -0.        , -0.        , -0.        , -1.        ]])"
      ]
     },
     "execution_count": 133,
     "metadata": {},
     "output_type": "execute_result"
    }
   ],
   "source": [
    "v"
   ]
  },
  {
   "cell_type": "code",
   "execution_count": 134,
   "metadata": {},
   "outputs": [
    {
     "data": {
      "text/plain": [
       "array([[-0.9608977 , -0.        ,  0.        ,  0.27690361, -0.        ],\n",
       "       [-0.19580042, -0.        , -0.70710678, -0.67945728, -0.        ],\n",
       "       [-0.19580042, -0.        ,  0.70710678, -0.67945728, -0.        ],\n",
       "       [-0.        , -1.        ,  0.        ,  0.        , -0.        ],\n",
       "       [-0.        , -0.        ,  0.        ,  0.        , -1.        ]])"
      ]
     },
     "execution_count": 134,
     "metadata": {},
     "output_type": "execute_result"
    }
   ],
   "source": [
    "vt=v.T\n",
    "vt"
   ]
  },
  {
   "cell_type": "code",
   "execution_count": 135,
   "metadata": {},
   "outputs": [],
   "source": [
    "vv = v**2"
   ]
  },
  {
   "cell_type": "code",
   "execution_count": 136,
   "metadata": {},
   "outputs": [
    {
     "data": {
      "text/plain": [
       "array([[0.92332439, 0.0383378 , 0.0383378 , 0.        , 0.        ],\n",
       "       [0.        , 0.        , 0.        , 1.        , 0.        ],\n",
       "       [0.        , 0.5       , 0.5       , 0.        , 0.        ],\n",
       "       [0.07667561, 0.4616622 , 0.4616622 , 0.        , 0.        ],\n",
       "       [0.        , 0.        , 0.        , 0.        , 1.        ]])"
      ]
     },
     "execution_count": 136,
     "metadata": {},
     "output_type": "execute_result"
    }
   ],
   "source": [
    "vv"
   ]
  },
  {
   "cell_type": "code",
   "execution_count": 137,
   "metadata": {},
   "outputs": [
    {
     "data": {
      "text/plain": [
       "array([1., 1., 1., 1., 1.])"
      ]
     },
     "execution_count": 137,
     "metadata": {},
     "output_type": "execute_result"
    }
   ],
   "source": [
    "cp.sum(vv,axis=0)"
   ]
  },
  {
   "cell_type": "code",
   "execution_count": 138,
   "metadata": {},
   "outputs": [
    {
     "data": {
      "text/plain": [
       "array([1., 1., 1., 1., 1.])"
      ]
     },
     "execution_count": 138,
     "metadata": {},
     "output_type": "execute_result"
    }
   ],
   "source": [
    "cp.sum(vv,axis=1)"
   ]
  },
  {
   "cell_type": "code",
   "execution_count": 139,
   "metadata": {},
   "outputs": [],
   "source": [
    "c = cp.abs(v.dot(v.T))"
   ]
  },
  {
   "cell_type": "code",
   "execution_count": 140,
   "metadata": {},
   "outputs": [
    {
     "data": {
      "text/plain": [
       "array([[1.00000000e+00, 0.00000000e+00, 4.98434709e-17, 1.45553051e-16,\n",
       "        0.00000000e+00],\n",
       "       [0.00000000e+00, 1.00000000e+00, 0.00000000e+00, 0.00000000e+00,\n",
       "        0.00000000e+00],\n",
       "       [4.98434709e-17, 0.00000000e+00, 1.00000000e+00, 2.37937994e-16,\n",
       "        0.00000000e+00],\n",
       "       [1.45553051e-16, 0.00000000e+00, 2.37937994e-16, 1.00000000e+00,\n",
       "        0.00000000e+00],\n",
       "       [0.00000000e+00, 0.00000000e+00, 0.00000000e+00, 0.00000000e+00,\n",
       "        1.00000000e+00]])"
      ]
     },
     "execution_count": 140,
     "metadata": {},
     "output_type": "execute_result"
    }
   ],
   "source": [
    "c"
   ]
  },
  {
   "cell_type": "code",
   "execution_count": 141,
   "metadata": {},
   "outputs": [],
   "source": [
    "import matplotlib.pyplot as plt"
   ]
  },
  {
   "cell_type": "code",
   "execution_count": 142,
   "metadata": {},
   "outputs": [
    {
     "data": {
      "text/plain": [
       "<matplotlib.image.AxesImage at 0x7f2a5cf0e220>"
      ]
     },
     "execution_count": 142,
     "metadata": {},
     "output_type": "execute_result"
    },
    {
     "data": {
      "image/png": "[encoded data removed]",
      "text/plain": [
       "<Figure size 288x288 with 1 Axes>"
      ]
     },
     "metadata": {
      "needs_background": "light"
     },
     "output_type": "display_data"
    }
   ],
   "source": [
    "plt.matshow(cp.asnumpy(c))"
   ]
  },
  {
   "cell_type": "code",
   "execution_count": 143,
   "metadata": {},
   "outputs": [
    {
     "data": {
      "text/plain": [
       "array([3.57981465, 2.        , 1.73205081, 1.47814989, 1.        ])"
      ]
     },
     "execution_count": 143,
     "metadata": {},
     "output_type": "execute_result"
    }
   ],
   "source": [
    "w"
   ]
  },
  {
   "cell_type": "code",
   "execution_count": 145,
   "metadata": {},
   "outputs": [
    {
     "data": {
      "text/plain": [
       "(8, 5)"
      ]
     },
     "execution_count": 145,
     "metadata": {},
     "output_type": "execute_result"
    }
   ],
   "source": [
    "x.shape"
   ]
  },
  {
   "cell_type": "code",
   "execution_count": null,
   "metadata": {},
   "outputs": [],
   "source": []
  }
 ],
 "metadata": {
  "kernelspec": {
   "display_name": "Python 3 [ae-tf]",
   "language": "python",
   "name": "python3-ae-tf"
  },
  "language_info": {
   "codemirror_mode": {
    "name": "ipython",
    "version": 3
   },
   "file_extension": ".py",
   "mimetype": "text/x-python",
   "name": "python",
   "nbconvert_exporter": "python",
   "pygments_lexer": "ipython3",
   "version": "3.8.10"
  }
 },
 "nbformat": 4,
 "nbformat_minor": 4
}
